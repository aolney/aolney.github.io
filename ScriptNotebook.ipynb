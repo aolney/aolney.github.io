{
 "cells": [
  {
   "cell_type": "markdown",
   "metadata": {},
   "source": [
    "# Script Notebook\n",
    "This notebook contains utility scripts for the website."
   ]
  },
  {
   "cell_type": "markdown",
   "metadata": {},
   "source": [
    "## UMDrive migration\n",
    "The following cells rewrite links from UMDrive to blogs.memphis.edu. \n",
    "Some reorganization of directories is included.\n",
    "\n",
    "Let's get the names and text of all posts we need to relink"
   ]
  },
  {
   "cell_type": "code",
   "execution_count": 2,
   "metadata": {},
   "outputs": [],
   "source": [
    "let fileTextTuples = \n",
    "    System.IO.Directory.GetFiles(\"_posts\")\n",
    "    |> Seq.map( fun filePath -> filePath, System.IO.File.ReadAllText( filePath ) )\n",
    "\n",
    "//(https://umdrive.memphis.edu/aolney/public/website-media/1554866357.jpg)\n",
    "let umRegex = System.Text.RegularExpressions.Regex(@\"umdrive.memphis.edu/aolney/public/([^/]+)/([^/]+)\")"
   ]
  },
  {
   "cell_type": "markdown",
   "metadata": {},
   "source": [
    "Let's look at the original directory structure"
   ]
  },
  {
   "cell_type": "code",
   "execution_count": 22,
   "metadata": {},
   "outputs": [
    {
     "data": {
      "text/plain": [
       "[|\"publications\"; \"website-media\"; \"press\"; \"Teaching\"; \"projects\"; \"resume\";\n",
       "  \"photos\"|]"
      ]
     },
     "execution_count": 22,
     "metadata": {},
     "output_type": "execute_result"
    }
   ],
   "source": [
    "let directoryCategories =\n",
    "    fileTextTuples\n",
    "    |> Seq.choose( fun (_,text) -> \n",
    "        let matches = umRegex.Matches(text)\n",
    "        if matches.Count = 0 then None\n",
    "        else\n",
    "            matches |> Seq.map( fun m -> m.Groups.[1].Value,m.Groups.[2].Value ) |> Some\n",
    "        )\n",
    "    |> Seq.collect id\n",
    "    |> Seq.toArray\n",
    "\n",
    "directoryCategories |> Array.map fst |> Array.distinct"
   ]
  },
  {
   "cell_type": "markdown",
   "metadata": {},
   "source": [
    "Some of these are nested, so check that"
   ]
  },
  {
   "cell_type": "code",
   "execution_count": 24,
   "metadata": {},
   "outputs": [
    {
     "data": {
      "text/plain": [
       "[|\"hubo_files\"; \"bass\"; \"pkd\"; \"harness2018\"; \"autotutor\"|]"
      ]
     },
     "execution_count": 24,
     "metadata": {},
     "output_type": "execute_result"
    }
   ],
   "source": [
    "directoryCategories \n",
    "|> Array.map snd \n",
    "|> Array.filter( fun t -> t.Contains(\".\") |> not ) //assumes directory names do not have \".\" \n",
    "|> Array.distinct"
   ]
  },
  {
   "cell_type": "markdown",
   "metadata": {},
   "source": [
    "These are our special cases for merging. Everything else is straight renaming.\n",
    "\n",
    "New structure:\n",
    "\n",
    "- website-media (contains press, photos, projects, resume)\n",
    "- publications (same)\n",
    "- teaching (same, lowercase)\n",
    "\n",
    "Special cases:\n",
    "\n",
    "- press/hubo_files go to website-media with unique names\n",
    "- projects/bass go to website-media\n",
    "- projects/pkd go to website-media\n",
    "- projects/autotutor go to website-media\n",
    "\n",
    "**The new structure was accomplished my manually copying files from UMDrive to blogs.memphis.edu with the structure above. Post-internal links were then rewritten in code below**\n",
    "\n",
    "### UPDATES: \n",
    "\n",
    "**It turns out that blogs.memphis.edu destroys all folder structure. So we remap to the root folder in the code block below. It also looks like blogs.memphis.edu renames files with whitespace, replacing with hypens.**"
   ]
  },
  {
   "cell_type": "code",
   "execution_count": 9,
   "metadata": {},
   "outputs": [],
   "source": [
    "let Replace (query:string) replacement (input:string) =\n",
    "    input.Replace(query,replacement)\n",
    "\n",
    "let urlRegex =  System.Text.RegularExpressions.Regex(\"\"\"(https://blogs.memphis.edu/[^\\)\"]+)\"\"\")\n",
    "\n",
    "System.IO.Directory.CreateDirectory(\"_posts2\")\n",
    "fileTextTuples\n",
    "|> Seq.map( fun (fileName,text) -> \n",
    "    let newText = \n",
    "        text\n",
    "        //special cases first\n",
    "        |> Replace \"press/hubo_files\" \"website-media\"\n",
    "        |> Replace \"projects/bass\" \"website-media\"\n",
    "        |> Replace \"projects/pkd\" \"website-media\"\n",
    "        |> Replace \"projects/autotutor\" \"website-media\"\n",
    "        //general cases\n",
    "        |> Replace \"public/Teaching\" \"public/teaching\"\n",
    "        |> Replace \"public/press\" \"public/website-media\"\n",
    "        |> Replace \"public/photos\" \"public/website-media\"\n",
    "        |> Replace \"public/projects\" \"public/website-media\"\n",
    "        |> Replace \"public/resume\" \"public/website-media\"\n",
    "        //because blogs.memphis.edu destroys folders\n",
    "        |> Replace \"public/teaching\" \"public\"\n",
    "        |> Replace \"public/website-media/harness2018\" \"public\"\n",
    "        |> Replace \"public/website-media\" \"public\"\n",
    "        |> Replace \"public/publications\" \"public\"\n",
    "        //domain prefix\n",
    "        |> Replace \"umdrive.memphis.edu/aolney/public/\" \"blogs.memphis.edu/aolney/files/2019/10/\"\n",
    "        \n",
    "    fileName,newText\n",
    ")\n",
    "//because blogs.memphis.edu disallows whitespace in filenames\n",
    "|> Seq.map( fun (fileName,text) ->\n",
    "    let mutable newText = text\n",
    "    let matches = urlRegex.Matches(text)\n",
    "    for m in matches do\n",
    "        let url = m.Groups.[1].Value\n",
    "        let newUrl = url.Trim().Replace(\" \",\"-\").Replace(\"%20\",\"-\").Replace(\"%2C\",\"-\").Replace(\"%27\",\"-\").Replace(\"--\",\"-\").Replace(\"--\",\"-\")\n",
    "        newText <- text.Replace(url,newUrl)\n",
    "    fileName,newText\n",
    ")\n",
    "|> Seq.iter( fun (fileName,text) -> \n",
    "    let fileName2 = fileName.Replace(\"_posts\",\"_posts2\")\n",
    "    System.IO.File.WriteAllText( fileName2, text )\n",
    ")"
   ]
  },
  {
   "cell_type": "markdown",
   "metadata": {},
   "source": [
    "Check the links that we've rewritten"
   ]
  },
  {
   "cell_type": "code",
   "execution_count": null,
   "metadata": {},
   "outputs": [],
   "source": [
    "let urlRegex =  System.Text.RegularExpressions.Regex(\"\"\"(https://blogs.memphis.edu/[^\\)\"]+)\"\"\")\n",
    "\n",
    "let postsPath = \"_posts2\"\n",
    "\n",
    "let checkURL (url:string) = \n",
    "    try\n",
    "        let req = System.Net.WebRequest.Create(url) :?> System.Net.HttpWebRequest\n",
    "        req.Method <- \"HEAD\"\n",
    "        req.UserAgent <- \"Mozilla / 5.0(Windows NT 10.0; Win64; x64) AppleWebKit / 537.36(KHTML, like Gecko) Chrome / 70.0.3538.77 Safari / 537.36\";\n",
    "        let resp = req.GetResponse() :?> System.Net.HttpWebResponse\n",
    "        resp.Close()\n",
    "        url, resp.StatusCode |> int\n",
    "    with\n",
    "    | :? System.Net.WebException as e -> url, e.Status |> int\n",
    "        \n",
    "    \n",
    "let urlCheckTuples = \n",
    "    System.IO.Directory.GetFiles( postsPath )\n",
    "    |> Seq.map( fun filePath -> filePath, System.IO.File.ReadAllText( filePath ) )\n",
    "    |> Seq.collect( fun (filePath,text) -> \n",
    "        let matches = urlRegex.Matches(text)\n",
    "        matches \n",
    "        |> Seq.map( fun m -> m.Groups.[1].Value )\n",
    "        |> Seq.map checkURL\n",
    "        //|> Seq.map ( fun t -> 1, t )\n",
    "    )\n",
    "\n",
    "System.IO.File.WriteAllLines( \"checkedURLs.txt\", urlCheckTuples |> Seq.map( fun (u,r) -> u.ToString() + \"\\t\" + r.ToString()  ))"
   ]
  },
  {
   "cell_type": "markdown",
   "metadata": {},
   "source": [
    "All check out, but a few needed to be manually corrected:\n",
    "\n",
    "- 68950141.pdf appears to be snaider_behavior_net.pdf \n",
    "- journal.pone.0130293.pdf is journal.pone_.0130293.pdf "
   ]
  },
  {
   "cell_type": "code",
   "execution_count": null,
   "metadata": {},
   "outputs": [],
   "source": []
  }
 ],
 "metadata": {
  "kernelspec": {
   "display_name": "F#",
   "language": "fsharp",
   "name": "ifsharp"
  },
  "language_info": {
   "name": ""
  }
 },
 "nbformat": 4,
 "nbformat_minor": 2
}
